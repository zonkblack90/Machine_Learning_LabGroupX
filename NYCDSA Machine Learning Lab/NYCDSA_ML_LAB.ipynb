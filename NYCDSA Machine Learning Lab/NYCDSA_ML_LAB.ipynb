{
 "cells": [
  {
   "cell_type": "code",
   "execution_count": 223,
   "metadata": {},
   "outputs": [],
   "source": [
    "import pandas as pd\n",
    "import numpy as np\n",
    "from sklearn.linear_model import LogisticRegression\n",
    "from sklearn.ensemble import RandomForestClassifier\n",
    "from sklearn.model_selection import train_test_split\n",
    "from sklearn.preprocessing import Imputer \n",
    "from sklearn.metrics import confusion_matrix, roc_auc_score\n",
    "from bokeh.plotting import figure, output_file, show\n",
    "from matplotlib import pyplot as plt\n",
    "pd.options.display.max_columns = 100\n",
    "import seaborn as sns\n",
    "sns.set(style=\"whitegrid\")\n",
    "\n",
    "\n",
    "%matplotlib inline"
   ]
  },
  {
   "cell_type": "markdown",
   "metadata": {},
   "source": [
    "# Part I: Preprocessing and EDA"
   ]
  },
  {
   "cell_type": "markdown",
   "metadata": {},
   "source": [
    "### Problem 1: Dataset Import & Cleaning"
   ]
  },
  {
   "cell_type": "code",
   "execution_count": 2,
   "metadata": {},
   "outputs": [],
   "source": [
    "orders = pd.read_csv(\"data/Orders.csv\")\n",
    "returns = pd.read_csv(\"data/Returns.csv\")"
   ]
  },
  {
   "cell_type": "code",
   "execution_count": 3,
   "metadata": {},
   "outputs": [
    {
     "data": {
      "text/html": [
       "<div>\n",
       "<style scoped>\n",
       "    .dataframe tbody tr th:only-of-type {\n",
       "        vertical-align: middle;\n",
       "    }\n",
       "\n",
       "    .dataframe tbody tr th {\n",
       "        vertical-align: top;\n",
       "    }\n",
       "\n",
       "    .dataframe thead th {\n",
       "        text-align: right;\n",
       "    }\n",
       "</style>\n",
       "<table border=\"1\" class=\"dataframe\">\n",
       "  <thead>\n",
       "    <tr style=\"text-align: right;\">\n",
       "      <th></th>\n",
       "      <th>Row.ID</th>\n",
       "      <th>Order.ID</th>\n",
       "      <th>Order.Date</th>\n",
       "      <th>Ship.Date</th>\n",
       "      <th>Ship.Mode</th>\n",
       "      <th>Customer.ID</th>\n",
       "      <th>Customer.Name</th>\n",
       "      <th>Segment</th>\n",
       "      <th>Postal.Code</th>\n",
       "      <th>City</th>\n",
       "      <th>...</th>\n",
       "      <th>Product.ID</th>\n",
       "      <th>Category</th>\n",
       "      <th>Sub.Category</th>\n",
       "      <th>Product.Name</th>\n",
       "      <th>Sales</th>\n",
       "      <th>Quantity</th>\n",
       "      <th>Discount</th>\n",
       "      <th>Profit</th>\n",
       "      <th>Shipping.Cost</th>\n",
       "      <th>Order.Priority</th>\n",
       "    </tr>\n",
       "  </thead>\n",
       "  <tbody>\n",
       "    <tr>\n",
       "      <th>0</th>\n",
       "      <td>40098</td>\n",
       "      <td>CA-2014-AB10015140-41954</td>\n",
       "      <td>11/11/14</td>\n",
       "      <td>11/13/14</td>\n",
       "      <td>First Class</td>\n",
       "      <td>AB-100151402</td>\n",
       "      <td>Aaron Bergman</td>\n",
       "      <td>Consumer</td>\n",
       "      <td>73120.0</td>\n",
       "      <td>Oklahoma City</td>\n",
       "      <td>...</td>\n",
       "      <td>TEC-PH-5816</td>\n",
       "      <td>Technology</td>\n",
       "      <td>Phones</td>\n",
       "      <td>Samsung Convoy 3</td>\n",
       "      <td>$221.98</td>\n",
       "      <td>2</td>\n",
       "      <td>0.0</td>\n",
       "      <td>$62.15</td>\n",
       "      <td>40.77</td>\n",
       "      <td>High</td>\n",
       "    </tr>\n",
       "    <tr>\n",
       "      <th>1</th>\n",
       "      <td>26341</td>\n",
       "      <td>IN-2014-JR162107-41675</td>\n",
       "      <td>2/5/14</td>\n",
       "      <td>2/7/14</td>\n",
       "      <td>Second Class</td>\n",
       "      <td>JR-162107</td>\n",
       "      <td>Justin Ritter</td>\n",
       "      <td>Corporate</td>\n",
       "      <td>NaN</td>\n",
       "      <td>Wollongong</td>\n",
       "      <td>...</td>\n",
       "      <td>FUR-CH-5379</td>\n",
       "      <td>Furniture</td>\n",
       "      <td>Chairs</td>\n",
       "      <td>Novimex Executive Leather Armchair, Black</td>\n",
       "      <td>$3,709.40</td>\n",
       "      <td>9</td>\n",
       "      <td>0.1</td>\n",
       "      <td>-$288.77</td>\n",
       "      <td>923.63</td>\n",
       "      <td>Critical</td>\n",
       "    </tr>\n",
       "    <tr>\n",
       "      <th>2</th>\n",
       "      <td>25330</td>\n",
       "      <td>IN-2014-CR127307-41929</td>\n",
       "      <td>10/17/14</td>\n",
       "      <td>10/18/14</td>\n",
       "      <td>First Class</td>\n",
       "      <td>CR-127307</td>\n",
       "      <td>Craig Reiter</td>\n",
       "      <td>Consumer</td>\n",
       "      <td>NaN</td>\n",
       "      <td>Brisbane</td>\n",
       "      <td>...</td>\n",
       "      <td>TEC-PH-5356</td>\n",
       "      <td>Technology</td>\n",
       "      <td>Phones</td>\n",
       "      <td>Nokia Smart Phone, with Caller ID</td>\n",
       "      <td>$5,175.17</td>\n",
       "      <td>9</td>\n",
       "      <td>0.1</td>\n",
       "      <td>$919.97</td>\n",
       "      <td>915.49</td>\n",
       "      <td>Medium</td>\n",
       "    </tr>\n",
       "  </tbody>\n",
       "</table>\n",
       "<p>3 rows × 24 columns</p>\n",
       "</div>"
      ],
      "text/plain": [
       "   Row.ID                  Order.ID Order.Date Ship.Date     Ship.Mode  \\\n",
       "0   40098  CA-2014-AB10015140-41954   11/11/14  11/13/14   First Class   \n",
       "1   26341    IN-2014-JR162107-41675     2/5/14    2/7/14  Second Class   \n",
       "2   25330    IN-2014-CR127307-41929   10/17/14  10/18/14   First Class   \n",
       "\n",
       "    Customer.ID  Customer.Name    Segment  Postal.Code           City  \\\n",
       "0  AB-100151402  Aaron Bergman   Consumer      73120.0  Oklahoma City   \n",
       "1     JR-162107  Justin Ritter  Corporate          NaN     Wollongong   \n",
       "2     CR-127307   Craig Reiter   Consumer          NaN       Brisbane   \n",
       "\n",
       "        ...         Product.ID    Category Sub.Category  \\\n",
       "0       ...        TEC-PH-5816  Technology       Phones   \n",
       "1       ...        FUR-CH-5379   Furniture       Chairs   \n",
       "2       ...        TEC-PH-5356  Technology       Phones   \n",
       "\n",
       "                                Product.Name      Sales Quantity Discount  \\\n",
       "0                           Samsung Convoy 3    $221.98        2      0.0   \n",
       "1  Novimex Executive Leather Armchair, Black  $3,709.40        9      0.1   \n",
       "2          Nokia Smart Phone, with Caller ID  $5,175.17        9      0.1   \n",
       "\n",
       "     Profit Shipping.Cost  Order.Priority  \n",
       "0    $62.15         40.77            High  \n",
       "1  -$288.77        923.63        Critical  \n",
       "2   $919.97        915.49          Medium  \n",
       "\n",
       "[3 rows x 24 columns]"
      ]
     },
     "execution_count": 3,
     "metadata": {},
     "output_type": "execute_result"
    }
   ],
   "source": [
    "orders.head(3)"
   ]
  },
  {
   "cell_type": "code",
   "execution_count": 4,
   "metadata": {},
   "outputs": [
    {
     "data": {
      "text/html": [
       "<div>\n",
       "<style scoped>\n",
       "    .dataframe tbody tr th:only-of-type {\n",
       "        vertical-align: middle;\n",
       "    }\n",
       "\n",
       "    .dataframe tbody tr th {\n",
       "        vertical-align: top;\n",
       "    }\n",
       "\n",
       "    .dataframe thead th {\n",
       "        text-align: right;\n",
       "    }\n",
       "</style>\n",
       "<table border=\"1\" class=\"dataframe\">\n",
       "  <thead>\n",
       "    <tr style=\"text-align: right;\">\n",
       "      <th></th>\n",
       "      <th>Returned</th>\n",
       "      <th>Order ID</th>\n",
       "      <th>Region</th>\n",
       "    </tr>\n",
       "  </thead>\n",
       "  <tbody>\n",
       "    <tr>\n",
       "      <th>0</th>\n",
       "      <td>Yes</td>\n",
       "      <td>CA-2012-SA20830140-41210</td>\n",
       "      <td>Central US</td>\n",
       "    </tr>\n",
       "    <tr>\n",
       "      <th>1</th>\n",
       "      <td>Yes</td>\n",
       "      <td>IN-2012-PB19210127-41259</td>\n",
       "      <td>Eastern Asia</td>\n",
       "    </tr>\n",
       "    <tr>\n",
       "      <th>2</th>\n",
       "      <td>Yes</td>\n",
       "      <td>CA-2012-SC20095140-41174</td>\n",
       "      <td>Central US</td>\n",
       "    </tr>\n",
       "  </tbody>\n",
       "</table>\n",
       "</div>"
      ],
      "text/plain": [
       "  Returned                  Order ID        Region\n",
       "0      Yes  CA-2012-SA20830140-41210    Central US\n",
       "1      Yes  IN-2012-PB19210127-41259  Eastern Asia\n",
       "2      Yes  CA-2012-SC20095140-41174    Central US"
      ]
     },
     "execution_count": 4,
     "metadata": {},
     "output_type": "execute_result"
    }
   ],
   "source": [
    "returns.head(3)"
   ]
  },
  {
   "cell_type": "code",
   "execution_count": 5,
   "metadata": {},
   "outputs": [
    {
     "name": "stdout",
     "output_type": "stream",
     "text": [
      "Orders DataFrame has 51290 rows and 24 columns\n",
      "Returns DataFrame has 1079 rows and 3 columns\n"
     ]
    }
   ],
   "source": [
    "shape1 = orders.shape\n",
    "shape2 = returns.shape\n",
    "\n",
    "print(\"Orders DataFrame has {r} rows and {c} columns\".format(r=shape1[0], c=shape1[1]))\n",
    "print(\"Returns DataFrame has {r} rows and {c} columns\".format(r=shape2[0], c=shape2[1]))"
   ]
  },
  {
   "cell_type": "markdown",
   "metadata": {},
   "source": [
    "** How many missing values are there in orders DataFrame? **"
   ]
  },
  {
   "cell_type": "code",
   "execution_count": 6,
   "metadata": {},
   "outputs": [
    {
     "name": "stdout",
     "output_type": "stream",
     "text": [
      "Row.ID                0\n",
      "Order.ID              0\n",
      "Order.Date            0\n",
      "Ship.Date             0\n",
      "Ship.Mode             0\n",
      "Customer.ID           0\n",
      "Customer.Name         0\n",
      "Segment               0\n",
      "Postal.Code       41296\n",
      "City                  0\n",
      "State                 0\n",
      "Country               0\n",
      "Region                0\n",
      "Market                0\n",
      "Product.ID            0\n",
      "Category              0\n",
      "Sub.Category          0\n",
      "Product.Name          0\n",
      "Sales                 0\n",
      "Quantity              0\n",
      "Discount              0\n",
      "Profit                0\n",
      "Shipping.Cost         0\n",
      "Order.Priority        0\n",
      "dtype: int64\n",
      "------------------------------------------------------------\n",
      "Only 9994 of values are not null in the Postal.Code column\n"
     ]
    }
   ],
   "source": [
    "print(orders.isnull().sum()) # Postal.code column has 41296 null values\n",
    "print(\"-\" * 60)\n",
    "non_null = int(shape1[0]) - int(orders[\"Postal.Code\"].isnull().sum())\n",
    "print(\"Only {} of values are not null in the Postal.Code column\".format(non_null))"
   ]
  },
  {
   "cell_type": "code",
   "execution_count": 7,
   "metadata": {},
   "outputs": [],
   "source": [
    "orders.drop(labels=[\"Postal.Code\"], axis=1, inplace=True) # dropping Postal.Code"
   ]
  },
  {
   "cell_type": "markdown",
   "metadata": {},
   "source": [
    "** How many missing values are there in returns DataFrame?  **"
   ]
  },
  {
   "cell_type": "code",
   "execution_count": 8,
   "metadata": {},
   "outputs": [
    {
     "data": {
      "text/plain": [
       "Returned    0\n",
       "Order ID    0\n",
       "Region      0\n",
       "dtype: int64"
      ]
     },
     "execution_count": 8,
     "metadata": {},
     "output_type": "execute_result"
    }
   ],
   "source": [
    "returns.isnull().sum() # There is no null values"
   ]
  },
  {
   "cell_type": "markdown",
   "metadata": {},
   "source": [
    "** Are there duplicated rows? **"
   ]
  },
  {
   "cell_type": "code",
   "execution_count": 9,
   "metadata": {},
   "outputs": [
    {
     "data": {
      "text/plain": [
       "0"
      ]
     },
     "execution_count": 9,
     "metadata": {},
     "output_type": "execute_result"
    }
   ],
   "source": [
    "orders.duplicated().sum() # No duplicates in orders DataFrame"
   ]
  },
  {
   "cell_type": "code",
   "execution_count": 10,
   "metadata": {},
   "outputs": [
    {
     "data": {
      "text/plain": [
       "0"
      ]
     },
     "execution_count": 10,
     "metadata": {},
     "output_type": "execute_result"
    }
   ],
   "source": [
    "returns.duplicated().sum() # No duplicates in returns DataFrame"
   ]
  },
  {
   "cell_type": "markdown",
   "metadata": {},
   "source": [
    "** Removing dots and spaces from columns **"
   ]
  },
  {
   "cell_type": "code",
   "execution_count": 11,
   "metadata": {},
   "outputs": [],
   "source": [
    "orders.columns = [column.replace(\".\",\"_\") for column in orders.columns]\n",
    "returns.columns = [column.replace(\" \",\"_\") for column in returns.columns]"
   ]
  },
  {
   "cell_type": "code",
   "execution_count": 12,
   "metadata": {},
   "outputs": [
    {
     "data": {
      "text/plain": [
       "Index(['Row_ID', 'Order_ID', 'Order_Date', 'Ship_Date', 'Ship_Mode',\n",
       "       'Customer_ID', 'Customer_Name', 'Segment', 'City', 'State', 'Country',\n",
       "       'Region', 'Market', 'Product_ID', 'Category', 'Sub_Category',\n",
       "       'Product_Name', 'Sales', 'Quantity', 'Discount', 'Profit',\n",
       "       'Shipping_Cost', 'Order_Priority'],\n",
       "      dtype='object')"
      ]
     },
     "execution_count": 12,
     "metadata": {},
     "output_type": "execute_result"
    }
   ],
   "source": [
    "orders.columns"
   ]
  },
  {
   "cell_type": "code",
   "execution_count": 13,
   "metadata": {},
   "outputs": [
    {
     "data": {
      "text/plain": [
       "Index(['Returned', 'Order_ID', 'Region'], dtype='object')"
      ]
     },
     "execution_count": 13,
     "metadata": {},
     "output_type": "execute_result"
    }
   ],
   "source": [
    "returns.columns"
   ]
  },
  {
   "cell_type": "markdown",
   "metadata": {},
   "source": [
    "** Coverting Profit and Sales columns to float **"
   ]
  },
  {
   "cell_type": "code",
   "execution_count": 14,
   "metadata": {},
   "outputs": [],
   "source": [
    "orders[\"Profit\"] = orders[\"Profit\"].str.replace(\"$\", \"\").str.replace(\",\", \"\").astype(\"float\")\n",
    "orders[\"Sales\"] = orders[\"Sales\"].str.replace(\"$\", \"\").str.replace(\",\", \"\").astype(\"float\")"
   ]
  },
  {
   "cell_type": "markdown",
   "metadata": {},
   "source": [
    "** Coverting two columns pandas date time object **"
   ]
  },
  {
   "cell_type": "code",
   "execution_count": 15,
   "metadata": {},
   "outputs": [],
   "source": [
    "orders[\"Order_Date\"] = pd.to_datetime(orders[\"Order_Date\"])\n",
    "orders[\"Ship_Date\"] = pd.to_datetime(orders[\"Ship_Date\"])"
   ]
  },
  {
   "cell_type": "markdown",
   "metadata": {},
   "source": [
    "** Changing columns to category data type **"
   ]
  },
  {
   "cell_type": "code",
   "execution_count": 16,
   "metadata": {},
   "outputs": [],
   "source": [
    "categorical = [\"Ship_Mode\", \"Segment\", \"Country\", \"Region\", \"Market\", \"Category\", \"Sub_Category\", \"Order_Priority\"] \n",
    "orders[categorical] = orders[categorical].astype(\"category\")"
   ]
  },
  {
   "cell_type": "code",
   "execution_count": 17,
   "metadata": {},
   "outputs": [],
   "source": [
    "returns[[\"Returned\", \"Region\"]] = returns[[\"Returned\", \"Region\"]].astype(\"category\")"
   ]
  },
  {
   "cell_type": "markdown",
   "metadata": {},
   "source": [
    "### Problem 2: Inventory Management\n",
    "- Retailers that depend on seasonal shoppers have a particularly challenging job when it comes to inventory management. Your manager is making plans for next year's inventory.\n",
    "- He wants you to answer the following questions:\n",
    "    1. Is there any seasonal trend of inventory in the company?\n",
    "    2. Is the seasonal trend the same for different categories?"
   ]
  },
  {
   "cell_type": "markdown",
   "metadata": {},
   "source": [
    "** Extracting Year, Month, and Season from Order_Date **"
   ]
  },
  {
   "cell_type": "code",
   "execution_count": 18,
   "metadata": {},
   "outputs": [],
   "source": [
    "orders.insert(3, column=\"Order_Year\", value=orders[\"Order_Date\"].dt.year) # Year of Order_Date\n",
    "orders.insert(4, column=\"Order_Month\", value=orders[\"Order_Date\"].dt.month) # Month of Order Date"
   ]
  },
  {
   "cell_type": "code",
   "execution_count": 19,
   "metadata": {},
   "outputs": [],
   "source": [
    "def season(month):\n",
    "    if month in [3,4,5]:\n",
    "        return(\"Spring\")\n",
    "    elif month in [6,7,8]:\n",
    "        return(\"Summer\")\n",
    "    elif month in [9,10,11]:\n",
    "        return(\"Fall\")\n",
    "    else:\n",
    "        return(\"Winter\")"
   ]
  },
  {
   "cell_type": "code",
   "execution_count": 20,
   "metadata": {},
   "outputs": [],
   "source": [
    "orders.insert(5, column=\"Order_Season\", value=orders[\"Order_Month\"].apply(season)) # Season of Order_Date"
   ]
  },
  {
   "cell_type": "markdown",
   "metadata": {},
   "source": [
    "** Is there any seasonal trend of inventory in the company? **"
   ]
  },
  {
   "cell_type": "code",
   "execution_count": 21,
   "metadata": {},
   "outputs": [
    {
     "data": {
      "image/png": "[encoded data removed]",
      "text/plain": [
       "<Figure size 864x576 with 1 Axes>"
      ]
     },
     "metadata": {},
     "output_type": "display_data"
    }
   ],
   "source": [
    "monthly = orders.groupby(by=\"Order_Month\").agg({\"Quantity\":\"sum\"}).reset_index()\n",
    "sns.set(rc={\"figure.figsize\":(12,8)})\n",
    "sns.lineplot(x=\"Order_Month\", y=\"Quantity\", data=monthly).set_title(\"Month vs. Quantity\");"
   ]
  },
  {
   "cell_type": "code",
   "execution_count": 22,
   "metadata": {},
   "outputs": [
    {
     "data": {
      "image/png": "[encoded data removed]",
      "text/plain": [
       "<Figure size 864x576 with 1 Axes>"
      ]
     },
     "metadata": {},
     "output_type": "display_data"
    }
   ],
   "source": [
    "seasons = orders.groupby(by=\"Order_Season\").agg({\"Quantity\":\"sum\"}).reset_index()\n",
    "sns.barplot(x=\"Order_Season\", y=\"Quantity\", data=seasons).set_title(\"Season vs. Quantity\");"
   ]
  },
  {
   "cell_type": "code",
   "execution_count": 23,
   "metadata": {},
   "outputs": [
    {
     "data": {
      "image/png": "[encoded data removed]",
      "text/plain": [
       "<Figure size 864x576 with 1 Axes>"
      ]
     },
     "metadata": {},
     "output_type": "display_data"
    }
   ],
   "source": [
    "monthly_category = orders.groupby(by=[\"Order_Month\", \"Category\"]).agg({\"Quantity\":\"sum\"}).reset_index()\n",
    "sns.lineplot(x=\"Order_Month\", y=\"Quantity\", hue=\"Category\", data=monthly_category).set_title(\"Categories each month\");"
   ]
  },
  {
   "cell_type": "code",
   "execution_count": 24,
   "metadata": {},
   "outputs": [
    {
     "data": {
      "image/png": "[encoded data removed]",
      "text/plain": [
       "<Figure size 864x576 with 1 Axes>"
      ]
     },
     "metadata": {},
     "output_type": "display_data"
    }
   ],
   "source": [
    "seasons_category = orders.groupby(by=[\"Order_Season\", \"Category\"]).agg({\"Quantity\":\"sum\"}).reset_index()\n",
    "sns.barplot(x=\"Order_Season\", y=\"Quantity\", hue=\"Category\", data=seasons_category).set_title(\"Categories during season\");"
   ]
  },
  {
   "cell_type": "markdown",
   "metadata": {},
   "source": [
    "##### Seasonal Trend: \n",
    "1. It appears that the most popular season is fall and the least popular season is spring. \n",
    "2. Quantity of orders increment during Spring and Fall. "
   ]
  },
  {
   "cell_type": "markdown",
   "metadata": {},
   "source": [
    "### Problem 3: Why did customers make returns?\n",
    "1. How much profit did we lose due to returns each year?\n",
    "2. How many customer returned more than once? more than 5 times?\n",
    "3. Which regions are more likely to return orders?\n",
    "4. Which categories (sub-categories) of products are more likely to be returned?"
   ]
  },
  {
   "cell_type": "code",
   "execution_count": 37,
   "metadata": {},
   "outputs": [
    {
     "name": "stdout",
     "output_type": "stream",
     "text": [
      "(1079, 3)\n"
     ]
    },
    {
     "data": {
      "text/html": [
       "<div>\n",
       "<style scoped>\n",
       "    .dataframe tbody tr th:only-of-type {\n",
       "        vertical-align: middle;\n",
       "    }\n",
       "\n",
       "    .dataframe tbody tr th {\n",
       "        vertical-align: top;\n",
       "    }\n",
       "\n",
       "    .dataframe thead th {\n",
       "        text-align: right;\n",
       "    }\n",
       "</style>\n",
       "<table border=\"1\" class=\"dataframe\">\n",
       "  <thead>\n",
       "    <tr style=\"text-align: right;\">\n",
       "      <th></th>\n",
       "      <th>Returned</th>\n",
       "      <th>Order_ID</th>\n",
       "      <th>Region</th>\n",
       "    </tr>\n",
       "  </thead>\n",
       "  <tbody>\n",
       "    <tr>\n",
       "      <th>0</th>\n",
       "      <td>Yes</td>\n",
       "      <td>CA-2012-SA20830140-41210</td>\n",
       "      <td>Central US</td>\n",
       "    </tr>\n",
       "    <tr>\n",
       "      <th>1</th>\n",
       "      <td>Yes</td>\n",
       "      <td>IN-2012-PB19210127-41259</td>\n",
       "      <td>Eastern Asia</td>\n",
       "    </tr>\n",
       "    <tr>\n",
       "      <th>2</th>\n",
       "      <td>Yes</td>\n",
       "      <td>CA-2012-SC20095140-41174</td>\n",
       "      <td>Central US</td>\n",
       "    </tr>\n",
       "    <tr>\n",
       "      <th>3</th>\n",
       "      <td>Yes</td>\n",
       "      <td>IN-2015-JH158207-42140</td>\n",
       "      <td>Oceania</td>\n",
       "    </tr>\n",
       "    <tr>\n",
       "      <th>4</th>\n",
       "      <td>Yes</td>\n",
       "      <td>IN-2014-LC168857-41747</td>\n",
       "      <td>Oceania</td>\n",
       "    </tr>\n",
       "  </tbody>\n",
       "</table>\n",
       "</div>"
      ],
      "text/plain": [
       "  Returned                  Order_ID        Region\n",
       "0      Yes  CA-2012-SA20830140-41210    Central US\n",
       "1      Yes  IN-2012-PB19210127-41259  Eastern Asia\n",
       "2      Yes  CA-2012-SC20095140-41174    Central US\n",
       "3      Yes    IN-2015-JH158207-42140       Oceania\n",
       "4      Yes    IN-2014-LC168857-41747       Oceania"
      ]
     },
     "execution_count": 37,
     "metadata": {},
     "output_type": "execute_result"
    }
   ],
   "source": [
    "print(returns.shape)\n",
    "returns.head()"
   ]
  },
  {
   "cell_type": "code",
   "execution_count": 39,
   "metadata": {},
   "outputs": [],
   "source": [
    "returns.drop(labels=\"Region\", axis=1, inplace=True)"
   ]
  },
  {
   "cell_type": "code",
   "execution_count": 43,
   "metadata": {},
   "outputs": [],
   "source": [
    "returns = returns.merge(orders, how=\"left\", left_on=\"Order_ID\", right_on=\"Order_ID\") "
   ]
  },
  {
   "cell_type": "code",
   "execution_count": 44,
   "metadata": {},
   "outputs": [
    {
     "name": "stdout",
     "output_type": "stream",
     "text": [
      "New returns DataFrame has 2220 rows and 27 columns\n"
     ]
    }
   ],
   "source": [
    "shape_returns = returns.shape\n",
    "print(\"New returns DataFrame has {r} rows and {c} columns\".format(r=shape_returns[0], c=shape_returns[1]))"
   ]
  },
  {
   "cell_type": "code",
   "execution_count": 61,
   "metadata": {},
   "outputs": [],
   "source": [
    "returns.insert(24, column=\"Profit_Abs\", value=returns[\"Profit\"].abs())"
   ]
  },
  {
   "cell_type": "code",
   "execution_count": 62,
   "metadata": {},
   "outputs": [
    {
     "data": {
      "text/html": [
       "<div>\n",
       "<style scoped>\n",
       "    .dataframe tbody tr th:only-of-type {\n",
       "        vertical-align: middle;\n",
       "    }\n",
       "\n",
       "    .dataframe tbody tr th {\n",
       "        vertical-align: top;\n",
       "    }\n",
       "\n",
       "    .dataframe thead th {\n",
       "        text-align: right;\n",
       "    }\n",
       "</style>\n",
       "<table border=\"1\" class=\"dataframe\">\n",
       "  <thead>\n",
       "    <tr style=\"text-align: right;\">\n",
       "      <th></th>\n",
       "      <th>Returned</th>\n",
       "      <th>Order_ID</th>\n",
       "      <th>Row_ID</th>\n",
       "      <th>Order_Date</th>\n",
       "      <th>Order_Year</th>\n",
       "      <th>Order_Month</th>\n",
       "      <th>Order_Season</th>\n",
       "      <th>Ship_Date</th>\n",
       "      <th>Ship_Mode</th>\n",
       "      <th>Customer_ID</th>\n",
       "      <th>...</th>\n",
       "      <th>Category</th>\n",
       "      <th>Sub_Category</th>\n",
       "      <th>Product_Name</th>\n",
       "      <th>Sales</th>\n",
       "      <th>Quantity</th>\n",
       "      <th>Discount</th>\n",
       "      <th>Profit_Abs</th>\n",
       "      <th>Profit</th>\n",
       "      <th>Shipping_Cost</th>\n",
       "      <th>Order_Priority</th>\n",
       "    </tr>\n",
       "  </thead>\n",
       "  <tbody>\n",
       "    <tr>\n",
       "      <th>0</th>\n",
       "      <td>Yes</td>\n",
       "      <td>CA-2012-SA20830140-41210</td>\n",
       "      <td>31784</td>\n",
       "      <td>2012-10-28</td>\n",
       "      <td>2012</td>\n",
       "      <td>10</td>\n",
       "      <td>Fall</td>\n",
       "      <td>2012-10-30</td>\n",
       "      <td>First Class</td>\n",
       "      <td>SA-208301402</td>\n",
       "      <td>...</td>\n",
       "      <td>Technology</td>\n",
       "      <td>Phones</td>\n",
       "      <td>Apple iPhone 5S</td>\n",
       "      <td>2735.95</td>\n",
       "      <td>6</td>\n",
       "      <td>0.2</td>\n",
       "      <td>341.99</td>\n",
       "      <td>341.99</td>\n",
       "      <td>752.51</td>\n",
       "      <td>High</td>\n",
       "    </tr>\n",
       "    <tr>\n",
       "      <th>1</th>\n",
       "      <td>Yes</td>\n",
       "      <td>IN-2012-PB19210127-41259</td>\n",
       "      <td>30191</td>\n",
       "      <td>2012-12-16</td>\n",
       "      <td>2012</td>\n",
       "      <td>12</td>\n",
       "      <td>Winter</td>\n",
       "      <td>2012-12-19</td>\n",
       "      <td>First Class</td>\n",
       "      <td>PB-19210127</td>\n",
       "      <td>...</td>\n",
       "      <td>Furniture</td>\n",
       "      <td>Tables</td>\n",
       "      <td>Lesro Conference Table, with Bottom Storage</td>\n",
       "      <td>1715.16</td>\n",
       "      <td>2</td>\n",
       "      <td>0.0</td>\n",
       "      <td>720.36</td>\n",
       "      <td>720.36</td>\n",
       "      <td>725.57</td>\n",
       "      <td>Critical</td>\n",
       "    </tr>\n",
       "    <tr>\n",
       "      <th>2</th>\n",
       "      <td>Yes</td>\n",
       "      <td>IN-2012-PB19210127-41259</td>\n",
       "      <td>30190</td>\n",
       "      <td>2012-12-16</td>\n",
       "      <td>2012</td>\n",
       "      <td>12</td>\n",
       "      <td>Winter</td>\n",
       "      <td>2012-12-19</td>\n",
       "      <td>First Class</td>\n",
       "      <td>PB-19210127</td>\n",
       "      <td>...</td>\n",
       "      <td>Furniture</td>\n",
       "      <td>Bookcases</td>\n",
       "      <td>Safco Classic Bookcase, Pine</td>\n",
       "      <td>2197.50</td>\n",
       "      <td>5</td>\n",
       "      <td>0.0</td>\n",
       "      <td>153.75</td>\n",
       "      <td>153.75</td>\n",
       "      <td>627.27</td>\n",
       "      <td>Critical</td>\n",
       "    </tr>\n",
       "  </tbody>\n",
       "</table>\n",
       "<p>3 rows × 28 columns</p>\n",
       "</div>"
      ],
      "text/plain": [
       "  Returned                  Order_ID  Row_ID Order_Date  Order_Year  \\\n",
       "0      Yes  CA-2012-SA20830140-41210   31784 2012-10-28        2012   \n",
       "1      Yes  IN-2012-PB19210127-41259   30191 2012-12-16        2012   \n",
       "2      Yes  IN-2012-PB19210127-41259   30190 2012-12-16        2012   \n",
       "\n",
       "   Order_Month Order_Season  Ship_Date    Ship_Mode   Customer_ID  \\\n",
       "0           10         Fall 2012-10-30  First Class  SA-208301402   \n",
       "1           12       Winter 2012-12-19  First Class   PB-19210127   \n",
       "2           12       Winter 2012-12-19  First Class   PB-19210127   \n",
       "\n",
       "       ...          Category Sub_Category  \\\n",
       "0      ...        Technology       Phones   \n",
       "1      ...         Furniture       Tables   \n",
       "2      ...         Furniture    Bookcases   \n",
       "\n",
       "                                  Product_Name    Sales Quantity Discount  \\\n",
       "0                              Apple iPhone 5S  2735.95        6      0.2   \n",
       "1  Lesro Conference Table, with Bottom Storage  1715.16        2      0.0   \n",
       "2                 Safco Classic Bookcase, Pine  2197.50        5      0.0   \n",
       "\n",
       "  Profit_Abs  Profit Shipping_Cost Order_Priority  \n",
       "0     341.99  341.99        752.51           High  \n",
       "1     720.36  720.36        725.57       Critical  \n",
       "2     153.75  153.75        627.27       Critical  \n",
       "\n",
       "[3 rows x 28 columns]"
      ]
     },
     "execution_count": 62,
     "metadata": {},
     "output_type": "execute_result"
    }
   ],
   "source": [
    "returns.head(3)"
   ]
  },
  {
   "cell_type": "markdown",
   "metadata": {},
   "source": [
    "** 1. How much profit did we lose due to returns each year? **"
   ]
  },
  {
   "cell_type": "code",
   "execution_count": 66,
   "metadata": {},
   "outputs": [
    {
     "data": {
      "image/png": "[encoded data removed]",
      "text/plain": [
       "<Figure size 864x576 with 1 Axes>"
      ]
     },
     "metadata": {},
     "output_type": "display_data"
    }
   ],
   "source": [
    "profit_loss = returns.groupby(by=\"Order_Year\").agg({\"Profit_Abs\": \"sum\"}).reset_index()\n",
    "sns.barplot(x=\"Order_Year\", y=\"Profit_Abs\", data=profit_loss).set_title(\"Profit loss during 2012, 2013, 2014, and 2015\");"
   ]
  },
  {
   "cell_type": "code",
   "execution_count": 69,
   "metadata": {},
   "outputs": [
    {
     "data": {
      "text/html": [
       "<div>\n",
       "<style scoped>\n",
       "    .dataframe tbody tr th:only-of-type {\n",
       "        vertical-align: middle;\n",
       "    }\n",
       "\n",
       "    .dataframe tbody tr th {\n",
       "        vertical-align: top;\n",
       "    }\n",
       "\n",
       "    .dataframe thead th {\n",
       "        text-align: right;\n",
       "    }\n",
       "</style>\n",
       "<table border=\"1\" class=\"dataframe\">\n",
       "  <thead>\n",
       "    <tr style=\"text-align: right;\">\n",
       "      <th></th>\n",
       "      <th>Order_Year</th>\n",
       "      <th>Profit_Abs</th>\n",
       "    </tr>\n",
       "  </thead>\n",
       "  <tbody>\n",
       "    <tr>\n",
       "      <th>0</th>\n",
       "      <td>2012</td>\n",
       "      <td>29022.34</td>\n",
       "    </tr>\n",
       "    <tr>\n",
       "      <th>1</th>\n",
       "      <td>2013</td>\n",
       "      <td>24695.95</td>\n",
       "    </tr>\n",
       "    <tr>\n",
       "      <th>2</th>\n",
       "      <td>2014</td>\n",
       "      <td>32389.49</td>\n",
       "    </tr>\n",
       "    <tr>\n",
       "      <th>3</th>\n",
       "      <td>2015</td>\n",
       "      <td>48928.17</td>\n",
       "    </tr>\n",
       "  </tbody>\n",
       "</table>\n",
       "</div>"
      ],
      "text/plain": [
       "   Order_Year  Profit_Abs\n",
       "0        2012    29022.34\n",
       "1        2013    24695.95\n",
       "2        2014    32389.49\n",
       "3        2015    48928.17"
      ]
     },
     "execution_count": 69,
     "metadata": {},
     "output_type": "execute_result"
    }
   ],
   "source": [
    "profit_loss"
   ]
  },
  {
   "cell_type": "markdown",
   "metadata": {},
   "source": [
    "##### Summary:\n",
    "- In 2012 Profit loss equal to $29,022.34\n",
    " \n",
    "- In 2013 Profit loss equal to $24,695.95\n",
    " \n",
    "- In 2014 Profit loss equal to $32,389.49\n",
    " \n",
    "- In 2015 Profit loss equal to $48,928.17\n",
    " \n",
    "- 2015 has the highest profit loss"
   ]
  },
  {
   "cell_type": "markdown",
   "metadata": {},
   "source": [
    "** 2. How many customer returned more than once? more than 5 times? **"
   ]
  },
  {
   "cell_type": "code",
   "execution_count": 93,
   "metadata": {},
   "outputs": [],
   "source": [
    "return_customer = returns.groupby(by=\"Customer_ID\").agg({\"Customer_ID\":\"count\"}).rename(columns={\"Customer_ID\":\"Count\"}).reset_index()"
   ]
  },
  {
   "cell_type": "code",
   "execution_count": 102,
   "metadata": {},
   "outputs": [
    {
     "name": "stdout",
     "output_type": "stream",
     "text": [
      "547 Customers returned item more than once\n"
     ]
    }
   ],
   "source": [
    "mask = return_customer[\"Count\"] > 1\n",
    "print(\"{} Customers returned item more than once\".format(len(return_customer[mask])))"
   ]
  },
  {
   "cell_type": "code",
   "execution_count": 103,
   "metadata": {},
   "outputs": [
    {
     "name": "stdout",
     "output_type": "stream",
     "text": [
      "46 Customers returned item more than 5 times\n"
     ]
    }
   ],
   "source": [
    "mask2 = return_customer[\"Count\"] > 5\n",
    "print(\"{} Customers returned item more than 5 times\".format(len(return_customer[mask2])))"
   ]
  },
  {
   "cell_type": "markdown",
   "metadata": {},
   "source": [
    "** 3. Which regions are more likely to return orders? **"
   ]
  },
  {
   "cell_type": "code",
   "execution_count": 106,
   "metadata": {},
   "outputs": [
    {
     "data": {
      "image/png": "[encoded data removed]",
      "text/plain": [
       "<Figure size 864x576 with 1 Axes>"
      ]
     },
     "metadata": {},
     "output_type": "display_data"
    }
   ],
   "source": [
    "sns.countplot(y=\"Region\", palette=\"pastel\",data=returns\n",
    "             , order=returns[\"Region\"].value_counts().iloc[:15]\n",
    "              .index).set_title(\"Order return by regions\");"
   ]
  },
  {
   "cell_type": "markdown",
   "metadata": {},
   "source": [
    " - Central America, Wastern Europe, and Western US regions are more likely to return items than other regions"
   ]
  },
  {
   "cell_type": "markdown",
   "metadata": {},
   "source": [
    "** 4. Which categories (sub-categories) of products are more likely to be returned? **"
   ]
  },
  {
   "cell_type": "code",
   "execution_count": 112,
   "metadata": {},
   "outputs": [
    {
     "data": {
      "image/png": "[encoded data removed]",
      "text/plain": [
       "<Figure size 864x576 with 1 Axes>"
      ]
     },
     "metadata": {},
     "output_type": "display_data"
    }
   ],
   "source": [
    "sns.countplot(y=\"Category\", palette=\"pastel\", data=returns\n",
    "             , order=returns[\"Category\"].value_counts().index).set_title(\"Return by Categories\");"
   ]
  },
  {
   "cell_type": "markdown",
   "metadata": {},
   "source": [
    "- Office Supplies are more likely to be returned than Technology and Furniture"
   ]
  },
  {
   "cell_type": "code",
   "execution_count": 113,
   "metadata": {},
   "outputs": [
    {
     "data": {
      "image/png": "[encoded data removed]",
      "text/plain": [
       "<Figure size 864x576 with 1 Axes>"
      ]
     },
     "metadata": {},
     "output_type": "display_data"
    }
   ],
   "source": [
    "sns.countplot(y=\"Sub_Category\", palette=\"pastel\", data=returns\n",
    "             , order=returns[\"Sub_Category\"].value_counts().index).set_title(\"Return by Categories\");"
   ]
  },
  {
   "cell_type": "markdown",
   "metadata": {},
   "source": [
    "- Binders, Art, and Storages are top three sub categories that returned "
   ]
  },
  {
   "cell_type": "markdown",
   "metadata": {},
   "source": [
    "# Part II: Machine Learning and Business Use Case\n",
    "- Now your manager has a basic understanding of why customers returned orders. Next, he wants you to use machine learning to predict which orders are most likely to be returned. In this part, you will generate several features based on our previous findings and your manager's requirements."
   ]
  },
  {
   "cell_type": "markdown",
   "metadata": {},
   "source": [
    "### Problem 4: Feature Engineering\n",
    "#### Step 1: Create the dependent variable"
   ]
  },
  {
   "cell_type": "code",
   "execution_count": 120,
   "metadata": {},
   "outputs": [
    {
     "name": "stdout",
     "output_type": "stream",
     "text": [
      "True is equal to number of returned item\n"
     ]
    },
    {
     "data": {
      "text/html": [
       "<div>\n",
       "<style scoped>\n",
       "    .dataframe tbody tr th:only-of-type {\n",
       "        vertical-align: middle;\n",
       "    }\n",
       "\n",
       "    .dataframe tbody tr th {\n",
       "        vertical-align: top;\n",
       "    }\n",
       "\n",
       "    .dataframe thead th {\n",
       "        text-align: right;\n",
       "    }\n",
       "</style>\n",
       "<table border=\"1\" class=\"dataframe\">\n",
       "  <thead>\n",
       "    <tr style=\"text-align: right;\">\n",
       "      <th></th>\n",
       "      <th>Order_ID</th>\n",
       "    </tr>\n",
       "  </thead>\n",
       "  <tbody>\n",
       "    <tr>\n",
       "      <th>False</th>\n",
       "      <td>49070</td>\n",
       "    </tr>\n",
       "    <tr>\n",
       "      <th>True</th>\n",
       "      <td>2220</td>\n",
       "    </tr>\n",
       "  </tbody>\n",
       "</table>\n",
       "</div>"
      ],
      "text/plain": [
       "       Order_ID\n",
       "False     49070\n",
       "True       2220"
      ]
     },
     "execution_count": 120,
     "metadata": {},
     "output_type": "execute_result"
    }
   ],
   "source": [
    "print(\"True is equal to number of returned item\")\n",
    "orders[\"Order_ID\"].isin(returns[\"Order_ID\"]).value_counts().to_frame()"
   ]
  },
  {
   "cell_type": "code",
   "execution_count": 125,
   "metadata": {},
   "outputs": [],
   "source": [
    "orders[\"Returned\"] = orders[\"Order_ID\"].isin(returns[\"Order_ID\"])"
   ]
  },
  {
   "cell_type": "code",
   "execution_count": 127,
   "metadata": {},
   "outputs": [],
   "source": [
    "def one_zero(boolean):\n",
    "    if boolean == True:\n",
    "        return(1)\n",
    "    else:\n",
    "        return(0)"
   ]
  },
  {
   "cell_type": "code",
   "execution_count": 130,
   "metadata": {},
   "outputs": [],
   "source": [
    "orders[\"Returned\"] = orders[\"Returned\"].apply(one_zero)"
   ]
  },
  {
   "cell_type": "code",
   "execution_count": 147,
   "metadata": {},
   "outputs": [
    {
     "data": {
      "text/html": [
       "<div>\n",
       "<style scoped>\n",
       "    .dataframe tbody tr th:only-of-type {\n",
       "        vertical-align: middle;\n",
       "    }\n",
       "\n",
       "    .dataframe tbody tr th {\n",
       "        vertical-align: top;\n",
       "    }\n",
       "\n",
       "    .dataframe thead th {\n",
       "        text-align: right;\n",
       "    }\n",
       "</style>\n",
       "<table border=\"1\" class=\"dataframe\">\n",
       "  <thead>\n",
       "    <tr style=\"text-align: right;\">\n",
       "      <th></th>\n",
       "      <th>Row_ID</th>\n",
       "      <th>Order_ID</th>\n",
       "      <th>Order_Date</th>\n",
       "      <th>Order_Year</th>\n",
       "      <th>Order_Month</th>\n",
       "      <th>Order_Season</th>\n",
       "      <th>Ship_Date</th>\n",
       "      <th>Ship_Mode</th>\n",
       "      <th>Customer_ID</th>\n",
       "      <th>Customer_Name</th>\n",
       "      <th>...</th>\n",
       "      <th>Category</th>\n",
       "      <th>Sub_Category</th>\n",
       "      <th>Product_Name</th>\n",
       "      <th>Sales</th>\n",
       "      <th>Quantity</th>\n",
       "      <th>Discount</th>\n",
       "      <th>Profit</th>\n",
       "      <th>Shipping_Cost</th>\n",
       "      <th>Order_Priority</th>\n",
       "      <th>Returned</th>\n",
       "    </tr>\n",
       "  </thead>\n",
       "  <tbody>\n",
       "    <tr>\n",
       "      <th>26980</th>\n",
       "      <td>4937</td>\n",
       "      <td>MX-2014-BE1145531-41650</td>\n",
       "      <td>2014-01-11</td>\n",
       "      <td>2014</td>\n",
       "      <td>1</td>\n",
       "      <td>Winter</td>\n",
       "      <td>2014-01-15</td>\n",
       "      <td>Standard Class</td>\n",
       "      <td>BE-1145531</td>\n",
       "      <td>Brad Eason</td>\n",
       "      <td>...</td>\n",
       "      <td>Furniture</td>\n",
       "      <td>Furnishings</td>\n",
       "      <td>Eldon Light Bulb, Duo Pack</td>\n",
       "      <td>101.04</td>\n",
       "      <td>6</td>\n",
       "      <td>0.00</td>\n",
       "      <td>43.44</td>\n",
       "      <td>7.00</td>\n",
       "      <td>Medium</td>\n",
       "      <td>1</td>\n",
       "    </tr>\n",
       "    <tr>\n",
       "      <th>26755</th>\n",
       "      <td>27828</td>\n",
       "      <td>ID-2013-BN11470130-41633</td>\n",
       "      <td>2013-12-25</td>\n",
       "      <td>2013</td>\n",
       "      <td>12</td>\n",
       "      <td>Winter</td>\n",
       "      <td>2013-12-28</td>\n",
       "      <td>Second Class</td>\n",
       "      <td>BN-11470130</td>\n",
       "      <td>Brad Norvell</td>\n",
       "      <td>...</td>\n",
       "      <td>Office Supplies</td>\n",
       "      <td>Envelopes</td>\n",
       "      <td>GlobeWeis Interoffice Envelope, Recycled</td>\n",
       "      <td>74.13</td>\n",
       "      <td>3</td>\n",
       "      <td>0.47</td>\n",
       "      <td>-21.00</td>\n",
       "      <td>7.13</td>\n",
       "      <td>Medium</td>\n",
       "      <td>0</td>\n",
       "    </tr>\n",
       "    <tr>\n",
       "      <th>15637</th>\n",
       "      <td>3865</td>\n",
       "      <td>MX-2014-CS1250582-41917</td>\n",
       "      <td>2014-10-05</td>\n",
       "      <td>2014</td>\n",
       "      <td>10</td>\n",
       "      <td>Fall</td>\n",
       "      <td>2014-10-10</td>\n",
       "      <td>Standard Class</td>\n",
       "      <td>CS-1250582</td>\n",
       "      <td>Cindy Stewart</td>\n",
       "      <td>...</td>\n",
       "      <td>Furniture</td>\n",
       "      <td>Furnishings</td>\n",
       "      <td>Eldon Frame, Erganomic</td>\n",
       "      <td>321.64</td>\n",
       "      <td>7</td>\n",
       "      <td>0.40</td>\n",
       "      <td>-176.90</td>\n",
       "      <td>18.57</td>\n",
       "      <td>Medium</td>\n",
       "      <td>0</td>\n",
       "    </tr>\n",
       "  </tbody>\n",
       "</table>\n",
       "<p>3 rows × 27 columns</p>\n",
       "</div>"
      ],
      "text/plain": [
       "       Row_ID                  Order_ID Order_Date  Order_Year  Order_Month  \\\n",
       "26980    4937   MX-2014-BE1145531-41650 2014-01-11        2014            1   \n",
       "26755   27828  ID-2013-BN11470130-41633 2013-12-25        2013           12   \n",
       "15637    3865   MX-2014-CS1250582-41917 2014-10-05        2014           10   \n",
       "\n",
       "      Order_Season  Ship_Date       Ship_Mode  Customer_ID  Customer_Name  \\\n",
       "26980       Winter 2014-01-15  Standard Class   BE-1145531     Brad Eason   \n",
       "26755       Winter 2013-12-28    Second Class  BN-11470130   Brad Norvell   \n",
       "15637         Fall 2014-10-10  Standard Class   CS-1250582  Cindy Stewart   \n",
       "\n",
       "        ...            Category Sub_Category  \\\n",
       "26980   ...           Furniture  Furnishings   \n",
       "26755   ...     Office Supplies    Envelopes   \n",
       "15637   ...           Furniture  Furnishings   \n",
       "\n",
       "                                   Product_Name   Sales Quantity Discount  \\\n",
       "26980                Eldon Light Bulb, Duo Pack  101.04        6     0.00   \n",
       "26755  GlobeWeis Interoffice Envelope, Recycled   74.13        3     0.47   \n",
       "15637                    Eldon Frame, Erganomic  321.64        7     0.40   \n",
       "\n",
       "       Profit Shipping_Cost Order_Priority Returned  \n",
       "26980   43.44          7.00         Medium        1  \n",
       "26755  -21.00          7.13         Medium        0  \n",
       "15637 -176.90         18.57         Medium        0  \n",
       "\n",
       "[3 rows x 27 columns]"
      ]
     },
     "execution_count": 147,
     "metadata": {},
     "output_type": "execute_result"
    }
   ],
   "source": [
    "orders.sample(3)"
   ]
  },
  {
   "cell_type": "markdown",
   "metadata": {},
   "source": [
    "#### Step 2:\n",
    "- Your manager believes that **how long it took the order to ship** would affect whether the customer would return it or not. \n",
    "- He wants you to generate a feature which can measure how long it takes the company to process each order."
   ]
  },
  {
   "cell_type": "code",
   "execution_count": 152,
   "metadata": {},
   "outputs": [],
   "source": [
    "orders.insert(6, column=\"Process_Time\", value=orders[\"Ship_Date\"].dt.dayofyear - orders[\"Order_Date\"].dt.dayofyear)"
   ]
  },
  {
   "cell_type": "code",
   "execution_count": 154,
   "metadata": {},
   "outputs": [
    {
     "data": {
      "text/html": [
       "<div>\n",
       "<style scoped>\n",
       "    .dataframe tbody tr th:only-of-type {\n",
       "        vertical-align: middle;\n",
       "    }\n",
       "\n",
       "    .dataframe tbody tr th {\n",
       "        vertical-align: top;\n",
       "    }\n",
       "\n",
       "    .dataframe thead th {\n",
       "        text-align: right;\n",
       "    }\n",
       "</style>\n",
       "<table border=\"1\" class=\"dataframe\">\n",
       "  <thead>\n",
       "    <tr style=\"text-align: right;\">\n",
       "      <th></th>\n",
       "      <th>Row_ID</th>\n",
       "      <th>Order_ID</th>\n",
       "      <th>Order_Date</th>\n",
       "      <th>Order_Year</th>\n",
       "      <th>Order_Month</th>\n",
       "      <th>Order_Season</th>\n",
       "      <th>Process_Time</th>\n",
       "      <th>Ship_Date</th>\n",
       "      <th>Ship_Mode</th>\n",
       "      <th>Customer_ID</th>\n",
       "      <th>...</th>\n",
       "      <th>Category</th>\n",
       "      <th>Sub_Category</th>\n",
       "      <th>Product_Name</th>\n",
       "      <th>Sales</th>\n",
       "      <th>Quantity</th>\n",
       "      <th>Discount</th>\n",
       "      <th>Profit</th>\n",
       "      <th>Shipping_Cost</th>\n",
       "      <th>Order_Priority</th>\n",
       "      <th>Returned</th>\n",
       "    </tr>\n",
       "  </thead>\n",
       "  <tbody>\n",
       "    <tr>\n",
       "      <th>0</th>\n",
       "      <td>40098</td>\n",
       "      <td>CA-2014-AB10015140-41954</td>\n",
       "      <td>2014-11-11</td>\n",
       "      <td>2014</td>\n",
       "      <td>11</td>\n",
       "      <td>Fall</td>\n",
       "      <td>2</td>\n",
       "      <td>2014-11-13</td>\n",
       "      <td>First Class</td>\n",
       "      <td>AB-100151402</td>\n",
       "      <td>...</td>\n",
       "      <td>Technology</td>\n",
       "      <td>Phones</td>\n",
       "      <td>Samsung Convoy 3</td>\n",
       "      <td>221.98</td>\n",
       "      <td>2</td>\n",
       "      <td>0.0</td>\n",
       "      <td>62.15</td>\n",
       "      <td>40.77</td>\n",
       "      <td>High</td>\n",
       "      <td>0</td>\n",
       "    </tr>\n",
       "    <tr>\n",
       "      <th>1</th>\n",
       "      <td>26341</td>\n",
       "      <td>IN-2014-JR162107-41675</td>\n",
       "      <td>2014-02-05</td>\n",
       "      <td>2014</td>\n",
       "      <td>2</td>\n",
       "      <td>Winter</td>\n",
       "      <td>2</td>\n",
       "      <td>2014-02-07</td>\n",
       "      <td>Second Class</td>\n",
       "      <td>JR-162107</td>\n",
       "      <td>...</td>\n",
       "      <td>Furniture</td>\n",
       "      <td>Chairs</td>\n",
       "      <td>Novimex Executive Leather Armchair, Black</td>\n",
       "      <td>3709.40</td>\n",
       "      <td>9</td>\n",
       "      <td>0.1</td>\n",
       "      <td>-288.77</td>\n",
       "      <td>923.63</td>\n",
       "      <td>Critical</td>\n",
       "      <td>0</td>\n",
       "    </tr>\n",
       "    <tr>\n",
       "      <th>2</th>\n",
       "      <td>25330</td>\n",
       "      <td>IN-2014-CR127307-41929</td>\n",
       "      <td>2014-10-17</td>\n",
       "      <td>2014</td>\n",
       "      <td>10</td>\n",
       "      <td>Fall</td>\n",
       "      <td>1</td>\n",
       "      <td>2014-10-18</td>\n",
       "      <td>First Class</td>\n",
       "      <td>CR-127307</td>\n",
       "      <td>...</td>\n",
       "      <td>Technology</td>\n",
       "      <td>Phones</td>\n",
       "      <td>Nokia Smart Phone, with Caller ID</td>\n",
       "      <td>5175.17</td>\n",
       "      <td>9</td>\n",
       "      <td>0.1</td>\n",
       "      <td>919.97</td>\n",
       "      <td>915.49</td>\n",
       "      <td>Medium</td>\n",
       "      <td>0</td>\n",
       "    </tr>\n",
       "  </tbody>\n",
       "</table>\n",
       "<p>3 rows × 28 columns</p>\n",
       "</div>"
      ],
      "text/plain": [
       "   Row_ID                  Order_ID Order_Date  Order_Year  Order_Month  \\\n",
       "0   40098  CA-2014-AB10015140-41954 2014-11-11        2014           11   \n",
       "1   26341    IN-2014-JR162107-41675 2014-02-05        2014            2   \n",
       "2   25330    IN-2014-CR127307-41929 2014-10-17        2014           10   \n",
       "\n",
       "  Order_Season  Process_Time  Ship_Date     Ship_Mode   Customer_ID   ...     \\\n",
       "0         Fall             2 2014-11-13   First Class  AB-100151402   ...      \n",
       "1       Winter             2 2014-02-07  Second Class     JR-162107   ...      \n",
       "2         Fall             1 2014-10-18   First Class     CR-127307   ...      \n",
       "\n",
       "     Category Sub_Category                               Product_Name  \\\n",
       "0  Technology       Phones                           Samsung Convoy 3   \n",
       "1   Furniture       Chairs  Novimex Executive Leather Armchair, Black   \n",
       "2  Technology       Phones          Nokia Smart Phone, with Caller ID   \n",
       "\n",
       "     Sales Quantity Discount  Profit Shipping_Cost Order_Priority Returned  \n",
       "0   221.98        2      0.0   62.15         40.77           High        0  \n",
       "1  3709.40        9      0.1 -288.77        923.63       Critical        0  \n",
       "2  5175.17        9      0.1  919.97        915.49         Medium        0  \n",
       "\n",
       "[3 rows x 28 columns]"
      ]
     },
     "execution_count": 154,
     "metadata": {},
     "output_type": "execute_result"
    }
   ],
   "source": [
    "orders.head(3)"
   ]
  },
  {
   "cell_type": "markdown",
   "metadata": {},
   "source": [
    "#### Step 3:\n",
    "\n",
    "- If a product has been returned before, it may be returned again. \n",
    "- Let us generate a feature indictes how many times the product has been returned before.\n",
    "- If it never got returned, we just impute using 0."
   ]
  },
  {
   "cell_type": "code",
   "execution_count": 166,
   "metadata": {},
   "outputs": [],
   "source": [
    "return_item = returns.groupby(by=\"Product_ID\").agg({\"Product_ID\":\"count\"}).rename(columns={\"Product_ID\":\"Returned_Count\"}).reset_index()"
   ]
  },
  {
   "cell_type": "code",
   "execution_count": 168,
   "metadata": {},
   "outputs": [
    {
     "data": {
      "text/html": [
       "<div>\n",
       "<style scoped>\n",
       "    .dataframe tbody tr th:only-of-type {\n",
       "        vertical-align: middle;\n",
       "    }\n",
       "\n",
       "    .dataframe tbody tr th {\n",
       "        vertical-align: top;\n",
       "    }\n",
       "\n",
       "    .dataframe thead th {\n",
       "        text-align: right;\n",
       "    }\n",
       "</style>\n",
       "<table border=\"1\" class=\"dataframe\">\n",
       "  <thead>\n",
       "    <tr style=\"text-align: right;\">\n",
       "      <th></th>\n",
       "      <th>Product_ID</th>\n",
       "      <th>Returned_Count</th>\n",
       "    </tr>\n",
       "  </thead>\n",
       "  <tbody>\n",
       "    <tr>\n",
       "      <th>0</th>\n",
       "      <td>FUR-BO-3176</td>\n",
       "      <td>1</td>\n",
       "    </tr>\n",
       "    <tr>\n",
       "      <th>1</th>\n",
       "      <td>FUR-BO-3615</td>\n",
       "      <td>1</td>\n",
       "    </tr>\n",
       "    <tr>\n",
       "      <th>2</th>\n",
       "      <td>FUR-BO-3616</td>\n",
       "      <td>1</td>\n",
       "    </tr>\n",
       "  </tbody>\n",
       "</table>\n",
       "</div>"
      ],
      "text/plain": [
       "    Product_ID  Returned_Count\n",
       "0  FUR-BO-3176               1\n",
       "1  FUR-BO-3615               1\n",
       "2  FUR-BO-3616               1"
      ]
     },
     "execution_count": 168,
     "metadata": {},
     "output_type": "execute_result"
    }
   ],
   "source": [
    "return_item.head(3)"
   ]
  },
  {
   "cell_type": "code",
   "execution_count": 179,
   "metadata": {},
   "outputs": [],
   "source": [
    "orders = orders.merge(return_item, how=\"left\", on=\"Product_ID\")"
   ]
  },
  {
   "cell_type": "code",
   "execution_count": 185,
   "metadata": {},
   "outputs": [],
   "source": [
    "orders[\"Returned_Count\"] = orders[\"Returned_Count\"].fillna(value=0).astype(\"int\")"
   ]
  },
  {
   "cell_type": "code",
   "execution_count": 210,
   "metadata": {},
   "outputs": [
    {
     "data": {
      "text/html": [
       "<div>\n",
       "<style scoped>\n",
       "    .dataframe tbody tr th:only-of-type {\n",
       "        vertical-align: middle;\n",
       "    }\n",
       "\n",
       "    .dataframe tbody tr th {\n",
       "        vertical-align: top;\n",
       "    }\n",
       "\n",
       "    .dataframe thead th {\n",
       "        text-align: right;\n",
       "    }\n",
       "</style>\n",
       "<table border=\"1\" class=\"dataframe\">\n",
       "  <thead>\n",
       "    <tr style=\"text-align: right;\">\n",
       "      <th></th>\n",
       "      <th>Row_ID</th>\n",
       "      <th>Order_ID</th>\n",
       "      <th>Order_Date</th>\n",
       "      <th>Order_Year</th>\n",
       "      <th>Order_Month</th>\n",
       "      <th>Order_Season</th>\n",
       "      <th>Process_Time</th>\n",
       "      <th>Ship_Date</th>\n",
       "      <th>Ship_Mode</th>\n",
       "      <th>Customer_ID</th>\n",
       "      <th>Customer_Name</th>\n",
       "      <th>Segment</th>\n",
       "      <th>City</th>\n",
       "      <th>State</th>\n",
       "      <th>Country</th>\n",
       "      <th>Region</th>\n",
       "      <th>Market</th>\n",
       "      <th>Product_ID</th>\n",
       "      <th>Category</th>\n",
       "      <th>Sub_Category</th>\n",
       "      <th>Product_Name</th>\n",
       "      <th>Sales</th>\n",
       "      <th>Quantity</th>\n",
       "      <th>Discount</th>\n",
       "      <th>Profit</th>\n",
       "      <th>Shipping_Cost</th>\n",
       "      <th>Order_Priority</th>\n",
       "      <th>Returned</th>\n",
       "      <th>Returned_Count</th>\n",
       "    </tr>\n",
       "  </thead>\n",
       "  <tbody>\n",
       "    <tr>\n",
       "      <th>0</th>\n",
       "      <td>40098</td>\n",
       "      <td>CA-2014-AB10015140-41954</td>\n",
       "      <td>2014-11-11</td>\n",
       "      <td>2014</td>\n",
       "      <td>11</td>\n",
       "      <td>Fall</td>\n",
       "      <td>2</td>\n",
       "      <td>2014-11-13</td>\n",
       "      <td>First Class</td>\n",
       "      <td>AB-100151402</td>\n",
       "      <td>Aaron Bergman</td>\n",
       "      <td>Consumer</td>\n",
       "      <td>Oklahoma City</td>\n",
       "      <td>Oklahoma</td>\n",
       "      <td>United States</td>\n",
       "      <td>Central US</td>\n",
       "      <td>USCA</td>\n",
       "      <td>TEC-PH-5816</td>\n",
       "      <td>Technology</td>\n",
       "      <td>Phones</td>\n",
       "      <td>Samsung Convoy 3</td>\n",
       "      <td>221.98</td>\n",
       "      <td>2</td>\n",
       "      <td>0.0</td>\n",
       "      <td>62.15</td>\n",
       "      <td>40.77</td>\n",
       "      <td>High</td>\n",
       "      <td>0</td>\n",
       "      <td>0</td>\n",
       "    </tr>\n",
       "    <tr>\n",
       "      <th>1</th>\n",
       "      <td>26341</td>\n",
       "      <td>IN-2014-JR162107-41675</td>\n",
       "      <td>2014-02-05</td>\n",
       "      <td>2014</td>\n",
       "      <td>2</td>\n",
       "      <td>Winter</td>\n",
       "      <td>2</td>\n",
       "      <td>2014-02-07</td>\n",
       "      <td>Second Class</td>\n",
       "      <td>JR-162107</td>\n",
       "      <td>Justin Ritter</td>\n",
       "      <td>Corporate</td>\n",
       "      <td>Wollongong</td>\n",
       "      <td>New South Wales</td>\n",
       "      <td>Australia</td>\n",
       "      <td>Oceania</td>\n",
       "      <td>Asia Pacific</td>\n",
       "      <td>FUR-CH-5379</td>\n",
       "      <td>Furniture</td>\n",
       "      <td>Chairs</td>\n",
       "      <td>Novimex Executive Leather Armchair, Black</td>\n",
       "      <td>3709.40</td>\n",
       "      <td>9</td>\n",
       "      <td>0.1</td>\n",
       "      <td>-288.77</td>\n",
       "      <td>923.63</td>\n",
       "      <td>Critical</td>\n",
       "      <td>0</td>\n",
       "      <td>2</td>\n",
       "    </tr>\n",
       "    <tr>\n",
       "      <th>2</th>\n",
       "      <td>25330</td>\n",
       "      <td>IN-2014-CR127307-41929</td>\n",
       "      <td>2014-10-17</td>\n",
       "      <td>2014</td>\n",
       "      <td>10</td>\n",
       "      <td>Fall</td>\n",
       "      <td>1</td>\n",
       "      <td>2014-10-18</td>\n",
       "      <td>First Class</td>\n",
       "      <td>CR-127307</td>\n",
       "      <td>Craig Reiter</td>\n",
       "      <td>Consumer</td>\n",
       "      <td>Brisbane</td>\n",
       "      <td>Queensland</td>\n",
       "      <td>Australia</td>\n",
       "      <td>Oceania</td>\n",
       "      <td>Asia Pacific</td>\n",
       "      <td>TEC-PH-5356</td>\n",
       "      <td>Technology</td>\n",
       "      <td>Phones</td>\n",
       "      <td>Nokia Smart Phone, with Caller ID</td>\n",
       "      <td>5175.17</td>\n",
       "      <td>9</td>\n",
       "      <td>0.1</td>\n",
       "      <td>919.97</td>\n",
       "      <td>915.49</td>\n",
       "      <td>Medium</td>\n",
       "      <td>0</td>\n",
       "      <td>2</td>\n",
       "    </tr>\n",
       "  </tbody>\n",
       "</table>\n",
       "</div>"
      ],
      "text/plain": [
       "   Row_ID                  Order_ID Order_Date  Order_Year  Order_Month  \\\n",
       "0   40098  CA-2014-AB10015140-41954 2014-11-11        2014           11   \n",
       "1   26341    IN-2014-JR162107-41675 2014-02-05        2014            2   \n",
       "2   25330    IN-2014-CR127307-41929 2014-10-17        2014           10   \n",
       "\n",
       "  Order_Season  Process_Time  Ship_Date     Ship_Mode   Customer_ID  \\\n",
       "0         Fall             2 2014-11-13   First Class  AB-100151402   \n",
       "1       Winter             2 2014-02-07  Second Class     JR-162107   \n",
       "2         Fall             1 2014-10-18   First Class     CR-127307   \n",
       "\n",
       "   Customer_Name    Segment           City            State        Country  \\\n",
       "0  Aaron Bergman   Consumer  Oklahoma City         Oklahoma  United States   \n",
       "1  Justin Ritter  Corporate     Wollongong  New South Wales      Australia   \n",
       "2   Craig Reiter   Consumer       Brisbane       Queensland      Australia   \n",
       "\n",
       "       Region        Market   Product_ID    Category Sub_Category  \\\n",
       "0  Central US          USCA  TEC-PH-5816  Technology       Phones   \n",
       "1     Oceania  Asia Pacific  FUR-CH-5379   Furniture       Chairs   \n",
       "2     Oceania  Asia Pacific  TEC-PH-5356  Technology       Phones   \n",
       "\n",
       "                                Product_Name    Sales  Quantity  Discount  \\\n",
       "0                           Samsung Convoy 3   221.98         2       0.0   \n",
       "1  Novimex Executive Leather Armchair, Black  3709.40         9       0.1   \n",
       "2          Nokia Smart Phone, with Caller ID  5175.17         9       0.1   \n",
       "\n",
       "   Profit  Shipping_Cost Order_Priority  Returned  Returned_Count  \n",
       "0   62.15          40.77           High         0               0  \n",
       "1 -288.77         923.63       Critical         0               2  \n",
       "2  919.97         915.49         Medium         0               2  "
      ]
     },
     "execution_count": 210,
     "metadata": {},
     "output_type": "execute_result"
    }
   ],
   "source": [
    "orders.head(3)"
   ]
  },
  {
   "cell_type": "markdown",
   "metadata": {},
   "source": [
    "### Problem 5: Fitting Models\n",
    "- You can use any binary classification method you have learned so far.\n",
    "- Use 80/20 training and test splits to build your model. \n",
    "- Double check the column types before you fit the model.\n",
    "- Only include useful features. i.e all the `ID`s should be excluded from your training set.\n",
    "- Not that there are only less than 5% of the orders have been returned, so you should consider using the `createDataPartition` function from `caret` package that does a **stratified** random split of the data. Scikit-learn also has a [StratifiedKfold](http://scikit-learn.org/stable/modules/generated/sklearn.model_selection.StratifiedKFold.html#sklearn-model-selection-stratifiedkfold) function that does similar thing.\n",
    "- Do forget to `set.seed()` before the spilt to make your result reproducible."
   ]
  },
  {
   "cell_type": "code",
   "execution_count": 212,
   "metadata": {},
   "outputs": [],
   "source": [
    "columns = [\"Category\", \"Sub_Category\", \"Region\", \"Ship_Mode\", \"Segment\", \"Order_Priority\", \"Order_Month\",\n",
    "          \"Sales\", \"Profit\", \"Quantity\", \"Discount\", \"Shipping_Cost\", \"Process_Time\", \"Returned_Count\", \"Order_Season\"]"
   ]
  },
  {
   "cell_type": "code",
   "execution_count": 213,
   "metadata": {},
   "outputs": [],
   "source": [
    "X = pd.get_dummies(orders[columns], drop_first=True, dummy_na=True)\n",
    "y = orders['Returned']"
   ]
  },
  {
   "cell_type": "code",
   "execution_count": 217,
   "metadata": {},
   "outputs": [],
   "source": [
    "X_train, X_test, y_train, y_test = train_test_split(X, y, test_size=0.2, random_state=42, stratify=y)"
   ]
  },
  {
   "cell_type": "markdown",
   "metadata": {},
   "source": [
    "##### Logistic regression"
   ]
  },
  {
   "cell_type": "code",
   "execution_count": 219,
   "metadata": {},
   "outputs": [],
   "source": [
    "Logi_Regr = LogisticRegression(class_weight='balanced')\n",
    "Logi_Regr.fit(X_train, y_train)\n",
    "y_predict = Logi_Regr.predict(X_test)"
   ]
  },
  {
   "cell_type": "code",
   "execution_count": 221,
   "metadata": {},
   "outputs": [
    {
     "data": {
      "text/plain": [
       "array([[7229, 2585],\n",
       "       [ 151,  293]], dtype=int64)"
      ]
     },
     "execution_count": 221,
     "metadata": {},
     "output_type": "execute_result"
    }
   ],
   "source": [
    "confusion_matrix(y_test, y_predict)"
   ]
  },
  {
   "cell_type": "code",
   "execution_count": 222,
   "metadata": {},
   "outputs": [
    {
     "data": {
      "text/plain": [
       "0.6982553421569113"
      ]
     },
     "execution_count": 222,
     "metadata": {},
     "output_type": "execute_result"
    }
   ],
   "source": [
    "roc_auc_score(y_test, y_predict)"
   ]
  },
  {
   "cell_type": "markdown",
   "metadata": {},
   "source": [
    "##### Random forest"
   ]
  },
  {
   "cell_type": "code",
   "execution_count": 224,
   "metadata": {},
   "outputs": [],
   "source": [
    "ran_for = RandomForestClassifier(n_estimators=1000, max_depth=9, class_weight='balanced', n_jobs=-1)\n",
    "ran_for.fit(X_train, y_train)\n",
    "y_predict = ran_for.predict(X_test)"
   ]
  },
  {
   "cell_type": "code",
   "execution_count": 225,
   "metadata": {},
   "outputs": [
    {
     "data": {
      "text/plain": [
       "array([[5013, 4801],\n",
       "       [  42,  402]], dtype=int64)"
      ]
     },
     "execution_count": 225,
     "metadata": {},
     "output_type": "execute_result"
    }
   ],
   "source": [
    "confusion_matrix(y_test, y_predict)"
   ]
  },
  {
   "cell_type": "code",
   "execution_count": 226,
   "metadata": {},
   "outputs": [
    {
     "data": {
      "text/plain": [
       "0.7081031510418101"
      ]
     },
     "execution_count": 226,
     "metadata": {},
     "output_type": "execute_result"
    }
   ],
   "source": [
    "roc_auc_score(y_test, y_predict)"
   ]
  },
  {
   "cell_type": "code",
   "execution_count": null,
   "metadata": {},
   "outputs": [],
   "source": []
  }
 ],
 "metadata": {
  "kernelspec": {
   "display_name": "Python 3",
   "language": "python",
   "name": "python3"
  },
  "language_info": {
   "codemirror_mode": {
    "name": "ipython",
    "version": 3
   },
   "file_extension": ".py",
   "mimetype": "text/x-python",
   "name": "python",
   "nbconvert_exporter": "python",
   "pygments_lexer": "ipython3",
   "version": "3.6.5"
  }
 },
 "nbformat": 4,
 "nbformat_minor": 2
}
